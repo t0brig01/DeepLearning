{
 "cells": [
  {
   "cell_type": "code",
   "execution_count": 2,
   "metadata": {},
   "outputs": [],
   "source": [
    "import numpy as np\n",
    "import pandas as ps\n",
    "import math\n",
    "import random\n",
    "from tensorflow.keras.models import Sequential\n",
    "from tensorflow.keras.layers import Dense\n",
    "from tensorflow.keras.wrappers.scikit_learn import KerasClassifier\n",
    "from sklearn.model_selection import cross_val_score\n",
    "from sklearn.preprocessing import LabelEncoder\n",
    "from sklearn.model_selection import StratifiedKFold\n",
    "from sklearn.preprocessing import StandardScaler\n",
    "from sklearn.pipeline import Pipeline"
   ]
  },
  {
   "cell_type": "code",
   "execution_count": 42,
   "metadata": {},
   "outputs": [],
   "source": [
    "df = ps.read_csv('DocklessTripOpenData_10.csv')"
   ]
  },
  {
   "cell_type": "code",
   "execution_count": 43,
   "metadata": {},
   "outputs": [
    {
     "name": "stdout",
     "output_type": "stream",
     "text": [
      "<class 'pandas.core.frame.DataFrame'>\n",
      "RangeIndex: 505993 entries, 0 to 505992\n",
      "Data columns (total 13 columns):\n",
      "TripID            505993 non-null object\n",
      "StartDate         505993 non-null object\n",
      "StartTime         505993 non-null object\n",
      "EndDate           505989 non-null object\n",
      "EndTime           505989 non-null object\n",
      "TripDuration      505993 non-null float64\n",
      "TripDistance      505993 non-null float64\n",
      "StartLatitude     505993 non-null float64\n",
      "StartLongitude    505993 non-null float64\n",
      "EndLatitude       505993 non-null float64\n",
      "EndLongitude      505993 non-null float64\n",
      "DayOfWeek         505993 non-null int64\n",
      "HourNum           505993 non-null int64\n",
      "dtypes: float64(6), int64(2), object(5)\n",
      "memory usage: 50.2+ MB\n"
     ]
    }
   ],
   "source": [
    "df.info()"
   ]
  },
  {
   "cell_type": "code",
   "execution_count": 44,
   "metadata": {},
   "outputs": [],
   "source": [
    "df = df.dropna(how = 'all') \n",
    "\n",
    "df.drop(df[df['TripDistance'] == 100].index, inplace = True)\n",
    "df.drop(df[df['TripDistance'] == -1].index, inplace = True)\n",
    "\n",
    "df.drop(df[df['StartLatitude'] < 38.187377].index, inplace = True)\n",
    "df.drop(df[df['StartLatitude'] > 38.297739].index, inplace = True)\n",
    "df.drop(df[df['EndLatitude'] < 38.187377].index, inplace = True)\n",
    "df.drop(df[df['EndLatitude'] > 38.297739].index, inplace = True)\n",
    "\n",
    "df.drop(df[df['StartLongitude'] < -85.8311147].index, inplace = True)\n",
    "df.drop(df[df['StartLongitude'] > -85.6360277].index, inplace = True)\n",
    "df.drop(df[df['EndLongitude'] < -85.8311147].index, inplace = True)\n",
    "df.drop(df[df['EndLongitude'] > -85.6360277].index, inplace = True)\n",
    "\n"
   ]
  },
  {
   "cell_type": "code",
   "execution_count": 51,
   "metadata": {},
   "outputs": [
    {
     "data": {
      "text/html": [
       "<div>\n",
       "<style scoped>\n",
       "    .dataframe tbody tr th:only-of-type {\n",
       "        vertical-align: middle;\n",
       "    }\n",
       "\n",
       "    .dataframe tbody tr th {\n",
       "        vertical-align: top;\n",
       "    }\n",
       "\n",
       "    .dataframe thead th {\n",
       "        text-align: right;\n",
       "    }\n",
       "</style>\n",
       "<table border=\"1\" class=\"dataframe\">\n",
       "  <thead>\n",
       "    <tr style=\"text-align: right;\">\n",
       "      <th></th>\n",
       "      <th>TripID</th>\n",
       "      <th>StartDate</th>\n",
       "      <th>StartTime</th>\n",
       "      <th>EndDate</th>\n",
       "      <th>EndTime</th>\n",
       "      <th>TripDuration</th>\n",
       "      <th>TripDistance</th>\n",
       "      <th>StartLatitude</th>\n",
       "      <th>StartLongitude</th>\n",
       "      <th>EndLatitude</th>\n",
       "      <th>EndLongitude</th>\n",
       "      <th>DayOfWeek</th>\n",
       "      <th>HourNum</th>\n",
       "    </tr>\n",
       "  </thead>\n",
       "  <tbody>\n",
       "  </tbody>\n",
       "</table>\n",
       "</div>"
      ],
      "text/plain": [
       "Empty DataFrame\n",
       "Columns: [TripID, StartDate, StartTime, EndDate, EndTime, TripDuration, TripDistance, StartLatitude, StartLongitude, EndLatitude, EndLongitude, DayOfWeek, HourNum]\n",
       "Index: []"
      ]
     },
     "execution_count": 51,
     "metadata": {},
     "output_type": "execute_result"
    }
   ],
   "source": [
    "df.query('TripDistance == 100')\n",
    "df.query('TripDistance == -1')\n",
    "df.query('StartLatitude < 38.187377')\n",
    "df.query('StartLatitude > 38.297739')"
   ]
  },
  {
   "cell_type": "code",
   "execution_count": 45,
   "metadata": {},
   "outputs": [
    {
     "name": "stdout",
     "output_type": "stream",
     "text": [
      "<class 'pandas.core.frame.DataFrame'>\n",
      "Int64Index: 503654 entries, 0 to 505992\n",
      "Data columns (total 13 columns):\n",
      "TripID            503654 non-null object\n",
      "StartDate         503654 non-null object\n",
      "StartTime         503654 non-null object\n",
      "EndDate           503653 non-null object\n",
      "EndTime           503653 non-null object\n",
      "TripDuration      503654 non-null float64\n",
      "TripDistance      503654 non-null float64\n",
      "StartLatitude     503654 non-null float64\n",
      "StartLongitude    503654 non-null float64\n",
      "EndLatitude       503654 non-null float64\n",
      "EndLongitude      503654 non-null float64\n",
      "DayOfWeek         503654 non-null int64\n",
      "HourNum           503654 non-null int64\n",
      "dtypes: float64(6), int64(2), object(5)\n",
      "memory usage: 53.8+ MB\n"
     ]
    }
   ],
   "source": [
    "df.info()"
   ]
  },
  {
   "cell_type": "code",
   "execution_count": 46,
   "metadata": {},
   "outputs": [],
   "source": [
    "df.to_csv('Filtered.csv')"
   ]
  }
 ],
 "metadata": {
  "kernelspec": {
   "display_name": "Python 3",
   "language": "python",
   "name": "python3"
  },
  "language_info": {
   "codemirror_mode": {
    "name": "ipython",
    "version": 3
   },
   "file_extension": ".py",
   "mimetype": "text/x-python",
   "name": "python",
   "nbconvert_exporter": "python",
   "pygments_lexer": "ipython3",
   "version": "3.7.6"
  }
 },
 "nbformat": 4,
 "nbformat_minor": 4
}
