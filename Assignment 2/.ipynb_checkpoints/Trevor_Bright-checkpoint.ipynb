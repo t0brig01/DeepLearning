{
 "cells": [
  {
   "cell_type": "markdown",
   "metadata": {
    "colab_type": "text",
    "id": "Ff7CFzpo85X3"
   },
   "source": [
    "# **Problem 1**\n",
    "\n",
    "---\n",
    "\n",
    "*How many dimensions must the inputs of an RNN layer have? What does each\n",
    "dimension represent? What about its outputs?*\n",
    "\n",
    "---\n",
    "\n",
    "\n",
    "The dimensions must be three dimensional. The first dimension is the batch size, the second is the time-steps, and the third is the length of the input sequence. The output can either be 2D or 3D depending on if return sequence is true or not. If it is true, it becomes 3D because it outputs at each time step as opposed to if it was false, only outputting at the end. "
   ]
  },
  {
   "cell_type": "markdown",
   "metadata": {
    "colab_type": "text",
    "id": "0BWHxmvt93a1"
   },
   "source": [
    "# **Problem 2**\n",
    "\n",
    "---\n",
    "\n",
    "*Consider a CNN composed of three convolutional layers, each with **3 × 3 kernels**, **a stride of 2**, and \"same\" padding. The **lowest layer outputs 100** feature maps, the **middle one outputs 200**, and the **top one outputs 400**. The input images are RGB images of **200 × 300 pixels**.*\n",
    "\n",
    "---\n",
    "A. What is the total number of parameters in the CNN?\n",
    "\n",
    "---\n",
    "\n",
    "    first layer: 3 * 3 * 3 + 1 (bias) = 28 * 100 = 2800 params\n",
    "    middle layer: 3 * 3 * 100 + 1 (bias) = 901 * 200 = 180200\n",
    "    output: 3 * 3 * 200 + 1 = 1801 * 400 = 720400\n",
    "total = 2800+180200+720400= **903400**\n",
    "    \n",
    "---    \n",
    "    \n",
    "B. If we are using 32-bit floats, at least how much RAM will this network require when making a prediction for a single instance?\n",
    "\n",
    "---\n",
    "\n",
    "    200x300 / 2 = 100x150 = 1500000\n",
    "    100x150 / 2 = 50x75 = 750000\n",
    "    50x75 / 2 = 25x38 = 380000\n",
    "    \n",
    "    (1500000+750000+3800000)*4/1024/1024 = 10.03 MB\n",
    "    903400*4/1024/1024 = 3.44 MB\n",
    "10.03+3.44 = **13.47MB**\n",
    "\n",
    "---\n",
    "\n",
    "C.What about when training on a mini-batch of 50 images?\n",
    "    \n",
    "---\n",
    "\n",
    "    50 × 4 × 200 × 300 × 3 = 34.3 MB\n",
    "    3.4MB (calculated earlier)\n",
    "    500MB (RAM for some gradients)\n",
    "500 + 34.3 + 3.4 = **537.7 MB**\n",
    "\n"
   ]
  },
  {
   "cell_type": "markdown",
   "metadata": {
    "colab_type": "text",
    "id": "_XH66wKL-Rcg"
   },
   "source": [
    "# **Problem 3**\n",
    "---\n",
    "*Use transfer learning for large image classification, going through these steps:*\n",
    "1. *Create a training set containing at least 100 images per class. For example, you could classify your own pictures based on the location (beach, mountain, city, etc.), or alternatively you can use an existing dataset (e.g.,\n",
    "https://www.kaggle.com/puneet6060/intel-image-classification).*\n",
    "2. *Split it into a training set, a validation set, and a test set.*\n",
    "3. *Build the input pipeline, including the appropriate preprocessing operations, and optionally add data augmentation.*\n",
    "4. *Fine-tune a pretrained model on this dataset.*\n",
    "---\n",
    "\n",
    "While most of this code was based off of the Cat Vs Dog example, I made my own tweaks and made sure I understood it before using it here"
   ]
  },
  {
   "cell_type": "code",
   "execution_count": 1,
   "metadata": {
    "colab": {
     "base_uri": "https://localhost:8080/",
     "height": 88
    },
    "colab_type": "code",
    "id": "--st5qI8L7n6",
    "outputId": "1b21df9c-4692-47c0-da2a-1131876ec8fe"
   },
   "outputs": [],
   "source": [
    "#This is a radical library that lets you use an AMD GPU because\n",
    "#tensorflow only natively supports nvidia cards\n",
    "#only run if you have an AMD card\n",
    "import plaidml.keras\n",
    "plaidml.keras.install_backend()"
   ]
  },
  {
   "cell_type": "code",
   "execution_count": 2,
   "metadata": {
    "colab": {},
    "colab_type": "code",
    "id": "lZM_AGcx-v0r"
   },
   "outputs": [
    {
     "name": "stderr",
     "output_type": "stream",
     "text": [
      "INFO:plaidml:Opening device \"opencl_amd_hawaii.0\"\n"
     ]
    }
   ],
   "source": [
    "from keras import layers\n",
    "from keras import models\n",
    "from keras.preprocessing import image\n",
    "import matplotlib.pyplot as plt\n",
    "from keras.preprocessing.image import ImageDataGenerator\n",
    "\n",
    "\n",
    "import numpy as np \n",
    "import pandas as pd\n",
    "import os,shutil\n",
    "\n",
    "from keras.applications import VGG16\n",
    "#Get VGG16 pretrained model \n",
    "vgg = VGG16(weights='imagenet',include_top=False,input_shape=(150, 150, 3))\n",
    "model = models.Sequential()\n",
    "model.add(vgg)\n",
    "model.add(layers.Flatten()) #Don't forget to flatten or everything with be rough\n",
    "model.add(layers.Dense(256, activation='relu')) \n",
    "model.add(layers.Dense(4, activation='sigmoid'))\n",
    "\n",
    "vgg.trainable = False"
   ]
  },
  {
   "cell_type": "code",
   "execution_count": 3,
   "metadata": {
    "colab": {
     "base_uri": "https://localhost:8080/",
     "height": 799
    },
    "colab_type": "code",
    "id": "p1lK4lKLL8SU",
    "outputId": "0c7fa0ac-a093-46de-d3c1-9ddafd09837d"
   },
   "outputs": [
    {
     "name": "stdout",
     "output_type": "stream",
     "text": [
      "_________________________________________________________________\n",
      "Layer (type)                 Output Shape              Param #   \n",
      "=================================================================\n",
      "vgg16 (Model)                (None, 4, 4, 512)         14714688  \n",
      "_________________________________________________________________\n",
      "flatten_1 (Flatten)          (None, 8192)              0         \n",
      "_________________________________________________________________\n",
      "dense_1 (Dense)              (None, 256)               2097408   \n",
      "_________________________________________________________________\n",
      "dense_2 (Dense)              (None, 4)                 1028      \n",
      "=================================================================\n",
      "Total params: 16,813,124\n",
      "Trainable params: 2,098,436\n",
      "Non-trainable params: 14,714,688\n",
      "_________________________________________________________________\n"
     ]
    }
   ],
   "source": [
    "model.summary()"
   ]
  },
  {
   "cell_type": "code",
   "execution_count": 4,
   "metadata": {},
   "outputs": [],
   "source": [
    "vgg.trainable = True\n",
    "set_trainable = False\n",
    "#set trainable to true only on the block5 convolutional layers\n",
    "for layer in vgg.layers:\n",
    "    if layer.name == 'block5_conv1':\n",
    "        set_trainable = True\n",
    "    if set_trainable:\n",
    "        layer.trainable = True\n",
    "    else:\n",
    "        layer.trainable = False"
   ]
  },
  {
   "cell_type": "code",
   "execution_count": 5,
   "metadata": {
    "colab": {},
    "colab_type": "code",
    "id": "y_Szr3mvMMU0"
   },
   "outputs": [],
   "source": [
    "from keras import optimizers\n",
    "\n",
    "model.compile(loss='categorical_crossentropy',\n",
    "optimizer=optimizers.RMSprop(lr=1e-4),\n",
    "metrics=['accuracy'])"
   ]
  },
  {
   "cell_type": "code",
   "execution_count": 6,
   "metadata": {
    "colab": {},
    "colab_type": "code",
    "id": "YwbkVfp1VS_2"
   },
   "outputs": [],
   "source": [
    "#data augmentation for train datagen\n",
    "train_datagen = ImageDataGenerator(\n",
    "    rescale=1./255,\n",
    "    rotation_range=40,\n",
    "    width_shift_range=0.2,\n",
    "    height_shift_range=0.2,\n",
    "    shear_range=0.2,\n",
    "    zoom_range=0.2,\n",
    "    horizontal_flip=True,\n",
    "    fill_mode='nearest')\n",
    "test_datagen = ImageDataGenerator(rescale=1./255)"
   ]
  },
  {
   "cell_type": "code",
   "execution_count": 7,
   "metadata": {},
   "outputs": [
    {
     "name": "stdout",
     "output_type": "stream",
     "text": [
      "Found 1200 images belonging to 4 classes.\n"
     ]
    }
   ],
   "source": [
    "train_generator = train_datagen.flow_from_directory('train',\n",
    "    target_size=(150, 150),\n",
    "    batch_size=20,\n",
    "    class_mode=\"categorical\")     "
   ]
  },
  {
   "cell_type": "code",
   "execution_count": 8,
   "metadata": {
    "colab": {},
    "colab_type": "code",
    "id": "GuH1oLHIVau9",
    "scrolled": true
   },
   "outputs": [
    {
     "name": "stdout",
     "output_type": "stream",
     "text": [
      "Found 1200 images belonging to 4 classes.\n"
     ]
    }
   ],
   "source": [
    "validation_generator = test_datagen.flow_from_directory('validation',\n",
    "    target_size=(150, 150),\n",
    "    batch_size=20,\n",
    "    class_mode=\"categorical\")     "
   ]
  },
  {
   "cell_type": "code",
   "execution_count": 9,
   "metadata": {},
   "outputs": [
    {
     "name": "stdout",
     "output_type": "stream",
     "text": [
      "Epoch 1/15\n",
      "100/100 [==============================] - 63s 628ms/step - loss: 0.6794 - acc: 0.7245 - val_loss: 0.4276 - val_acc: 0.8800\n",
      "Epoch 2/15\n",
      "100/100 [==============================] - 49s 487ms/step - loss: 0.3735 - acc: 0.8580 - val_loss: 0.2962 - val_acc: 0.9020\n",
      "Epoch 3/15\n",
      "100/100 [==============================] - 49s 486ms/step - loss: 0.3201 - acc: 0.8820 - val_loss: 0.4776 - val_acc: 0.8400\n",
      "Epoch 4/15\n",
      "100/100 [==============================] - 49s 486ms/step - loss: 0.2843 - acc: 0.8940 - val_loss: 0.5077 - val_acc: 0.8360\n",
      "Epoch 5/15\n",
      "100/100 [==============================] - 49s 486ms/step - loss: 0.2751 - acc: 0.9045 - val_loss: 0.7397 - val_acc: 0.8550\n",
      "Epoch 6/15\n",
      "100/100 [==============================] - 49s 487ms/step - loss: 0.2423 - acc: 0.9095 - val_loss: 0.4498 - val_acc: 0.8700\n",
      "Epoch 7/15\n",
      "100/100 [==============================] - 49s 487ms/step - loss: 0.2216 - acc: 0.9255 - val_loss: 0.6452 - val_acc: 0.8660\n",
      "Epoch 8/15\n",
      "100/100 [==============================] - 49s 487ms/step - loss: 0.2363 - acc: 0.9220 - val_loss: 0.3304 - val_acc: 0.9190\n",
      "Epoch 9/15\n",
      "100/100 [==============================] - 49s 487ms/step - loss: 0.2082 - acc: 0.9290 - val_loss: 0.6106 - val_acc: 0.8960\n",
      "Epoch 10/15\n",
      "100/100 [==============================] - 49s 487ms/step - loss: 0.2200 - acc: 0.9365 - val_loss: 0.8107 - val_acc: 0.8600\n",
      "Epoch 11/15\n",
      "100/100 [==============================] - 49s 487ms/step - loss: 0.2224 - acc: 0.9365 - val_loss: 0.8278 - val_acc: 0.8540\n",
      "Epoch 12/15\n",
      "100/100 [==============================] - 49s 487ms/step - loss: 0.1971 - acc: 0.9365 - val_loss: 0.4624 - val_acc: 0.8890\n",
      "Epoch 13/15\n",
      "100/100 [==============================] - 49s 487ms/step - loss: 0.1856 - acc: 0.9390 - val_loss: 0.5733 - val_acc: 0.8920\n",
      "Epoch 14/15\n",
      "100/100 [==============================] - 49s 487ms/step - loss: 0.2213 - acc: 0.9450 - val_loss: 0.9509 - val_acc: 0.8830\n",
      "Epoch 15/15\n",
      "100/100 [==============================] - 49s 487ms/step - loss: 0.1835 - acc: 0.9490 - val_loss: 0.6625 - val_acc: 0.9020\n"
     ]
    }
   ],
   "source": [
    "history = model.fit_generator(\n",
    "    train_generator,\n",
    "    steps_per_epoch=100,\n",
    "    epochs=15,\n",
    "    validation_data=validation_generator,\n",
    "    validation_steps=50)"
   ]
  },
  {
   "cell_type": "code",
   "execution_count": 10,
   "metadata": {},
   "outputs": [
    {
     "data": {
      "image/png": "[encoded data removed]",
      "text/plain": [
       "<Figure size 432x288 with 1 Axes>"
      ]
     },
     "metadata": {
      "needs_background": "light"
     },
     "output_type": "display_data"
    },
    {
     "data": {
      "image/png": "[encoded data removed]",
      "text/plain": [
       "<Figure size 432x288 with 1 Axes>"
      ]
     },
     "metadata": {
      "needs_background": "light"
     },
     "output_type": "display_data"
    }
   ],
   "source": [
    "#Accuracy plotting, code from cat vs dog\n",
    "import matplotlib.pyplot as plt\n",
    "acc = history.history['acc']\n",
    "val_acc = history.history['val_acc']\n",
    "loss = history.history['loss']\n",
    "val_loss = history.history['val_loss']\n",
    "epochs = range(1, len(acc) + 1)\n",
    "plt.plot(epochs, acc, 'bo', label='Training acc')\n",
    "plt.plot(epochs, val_acc, 'b', label='Validation acc')\n",
    "plt.title('Training and validation accuracy')\n",
    "plt.legend()\n",
    "plt.figure()\n",
    "plt.plot(epochs, loss, 'bo', label='Training loss')\n",
    "plt.plot(epochs, val_loss, 'b', label='Validation loss')\n",
    "plt.title('Training and validation loss')\n",
    "plt.legend()\n",
    "plt.show()"
   ]
  },
  {
   "cell_type": "code",
   "execution_count": 17,
   "metadata": {},
   "outputs": [
    {
     "name": "stdout",
     "output_type": "stream",
     "text": [
      "Found 600 images belonging to 4 classes.\n"
     ]
    },
    {
     "data": {
      "text/plain": [
       "[1.0105025440454483, 0.8800000170866649]"
      ]
     },
     "execution_count": 17,
     "metadata": {},
     "output_type": "execute_result"
    }
   ],
   "source": [
    "#Time to test the model\n",
    "test_generator = test_datagen.flow_from_directory('test',\n",
    "    target_size=(150, 150),\n",
    "    batch_size=20,\n",
    "    class_mode=\"categorical\")     \n",
    "evaluation = model.evaluate_generator(test_generator)\n",
    "evaluation"
   ]
  }
 ],
 "metadata": {
  "colab": {
   "collapsed_sections": [],
   "name": "Trevor_Bright.ipynb",
   "provenance": []
  },
  "kernelspec": {
   "display_name": "Python 3",
   "language": "python",
   "name": "python3"
  },
  "language_info": {
   "codemirror_mode": {
    "name": "ipython",
    "version": 3
   },
   "file_extension": ".py",
   "mimetype": "text/x-python",
   "name": "python",
   "nbconvert_exporter": "python",
   "pygments_lexer": "ipython3",
   "version": "3.7.6"
  }
 },
 "nbformat": 4,
 "nbformat_minor": 1
}
